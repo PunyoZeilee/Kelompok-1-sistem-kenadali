{
 "cells": [
  {
   "cell_type": "code",
   "execution_count": null,
   "id": "e9fd9775",
   "metadata": {},
   "outputs": [
    {
     "name": "stdout",
     "output_type": "stream",
     "text": [
      "✅ CSV loaded successfully: mpu6050.csv\n",
      "📌 Shape: (924, 7)\n",
      "🔍 Column names: ['gx', 'gy', 'gz', 'ax', 'ay', 'az', 'label']\n",
      "🧪 Label distribution:\n",
      " label\n",
      "0     359\n",
      "10    359\n",
      "1     206\n",
      "Name: count, dtype: int64\n"
     ]
    }
   ],
   "source": [
    "import pandas as pd\n",
    "\n",
    "# Ganti dengan nama file yang kamu pakai\n",
    "csv_path = \"mpu6050.csv\"\n",
    "\n",
    "try:\n",
    "    df = pd.read_csv(csv_path)\n",
    "    print(f\"✅ CSV loaded successfully: {csv_path}\")\n",
    "    print(\"📌 Shape:\", df.shape)\n",
    "    print(\"🔍 Column names:\", df.columns.tolist())\n",
    "    print(\"🧪 Label distribution:\\n\", df['label'].value_counts())\n",
    "except Exception as e:\n",
    "    print(f\"❌ Failed to load CSV: {e}\")\n"
   ]
  },
  {
   "cell_type": "code",
   "execution_count": 6,
   "id": "62a1e715",
   "metadata": {},
   "outputs": [
    {
     "name": "stdout",
     "output_type": "stream",
     "text": [
      "✅ Dataset tersimpan di: expanded_proportional.csv\n",
      "🧪 Label distribution:\n",
      " label\n",
      "10    3885\n",
      "0     3885\n",
      "1     2229\n",
      "Name: count, dtype: int64\n"
     ]
    }
   ],
   "source": [
    "import pandas as pd\n",
    "\n",
    "def expand_csv_proportionally(df, target_total_rows):\n",
    "    \"\"\"Perbesar dataset agar jumlah baris sesuai target, dengan proporsi label tetap.\"\"\"\n",
    "    # Hitung distribusi asli\n",
    "    label_counts = df['label'].value_counts(normalize=True)\n",
    "\n",
    "    # Hitung jumlah baris yang harus diambil dari masing-masing label\n",
    "    new_counts = (label_counts * target_total_rows).astype(int)\n",
    "\n",
    "    # Ambil sampel per label sesuai jumlah baru\n",
    "    expanded_df = pd.concat([\n",
    "        df[df['label'] == label].sample(n=count, replace=True)\n",
    "        for label, count in new_counts.items()\n",
    "    ], ignore_index=True)\n",
    "\n",
    "    # Shuffle hasil akhir\n",
    "    return expanded_df.sample(frac=1).reset_index(drop=True)\n",
    "\n",
    "def export_to_csv(df, filename=\"expanded_proportional.csv\"):\n",
    "    df.to_csv(filename, index=False)\n",
    "    print(f\"✅ Dataset tersimpan di: {filename}\")\n",
    "\n",
    "# Contoh penggunaan\n",
    "if __name__ == \"__main__\":\n",
    "    df = pd.read_csv(\"mpu6050.csv\")\n",
    "    expanded_df = expand_csv_proportionally(df, target_total_rows=10000)\n",
    "    export_to_csv(expanded_df)\n",
    "    print(\"🧪 Label distribution:\\n\", expanded_df['label'].value_counts())"
   ]
  },
  {
   "cell_type": "code",
   "execution_count": null,
   "id": "108656b9",
   "metadata": {},
   "outputs": [],
   "source": []
  }
 ],
 "metadata": {
  "kernelspec": {
   "display_name": "jupyter_kernel",
   "language": "python",
   "name": "jupyter_kernel"
  }
 },
 "nbformat": 4,
 "nbformat_minor": 5
}
